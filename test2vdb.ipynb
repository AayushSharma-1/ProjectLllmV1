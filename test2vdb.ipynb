{
 "cells": [
  {
   "cell_type": "code",
   "execution_count": 1,
   "metadata": {},
   "outputs": [],
   "source": [
    "from langchain_community.embeddings import HuggingFaceEmbeddings\n",
    "# from models.gemini_model import GeminiModel\n",
    "import weaviate\n",
    "from langchain import hub\n",
    "# from langchain_community.vectorstores import Weaviate\n",
    "from langchain_community.document_loaders import TextLoader, DirectoryLoader\n",
    "from langchain.text_splitter import RecursiveCharacterTextSplitter\n",
    "from langchain_community.document_loaders import TextLoader\n",
    "from langchain_core.output_parsers import StrOutputParser\n",
    "from langchain_google_genai import ChatGoogleGenerativeAI\n",
    "from langchain_core.runnables import RunnablePassthrough\n",
    "from langchain_pinecone import PineconeVectorStore\n",
    "from langchain_community.document_loaders import UnstructuredFileLoader\n",
    "from langchain_pinecone import PineconeVectorStore\n",
    "import os"
   ]
  },
  {
   "cell_type": "code",
   "execution_count": 2,
   "metadata": {},
   "outputs": [],
   "source": [
    "os.environ['PINECONE_API_KEY'] = ''"
   ]
  },
  {
   "cell_type": "code",
   "execution_count": 3,
   "metadata": {},
   "outputs": [],
   "source": [
    "embeddings = HuggingFaceEmbeddings(model_name=\"sentence-transformers/paraphrase-MiniLM-L6-v2\")\n",
    "index_name = \"quickstart\""
   ]
  },
  {
   "cell_type": "code",
   "execution_count": 4,
   "metadata": {},
   "outputs": [],
   "source": [
    "docsearch = PineconeVectorStore(embedding= embeddings, index_name=index_name)"
   ]
  },
  {
   "cell_type": "markdown",
   "metadata": {},
   "source": []
  },
  {
   "cell_type": "code",
   "execution_count": 5,
   "metadata": {},
   "outputs": [],
   "source": [
    "llm=ChatGoogleGenerativeAI(model=\"gemini-pro\", google_api_key='')"
   ]
  },
  {
   "cell_type": "code",
   "execution_count": 6,
   "metadata": {},
   "outputs": [],
   "source": [
    "retriever = docsearch.as_retriever(search_kwargs={\"k\": 4})"
   ]
  },
  {
   "cell_type": "code",
   "execution_count": 7,
   "metadata": {},
   "outputs": [],
   "source": [
    "def format_docs(docs):\n",
    "    return \"\\n\\n\".join(doc.page_content for doc in docs)"
   ]
  },
  {
   "cell_type": "code",
   "execution_count": 8,
   "metadata": {},
   "outputs": [],
   "source": [
    "from langchain_core.prompts import PromptTemplate\n",
    "\n",
    "template = \"\"\"\"You are an expert informator system about Lucknow,\n",
    " I'll give you question and context and you'll return the answer in a sweet and sarcastic tone. \n",
    " You will use Hum instead of main. Your name is Lallan. \n",
    " The full form of Lallan is 'Lucknow Artificial Language and Learning Assistance Network'. \n",
    " Call only Janab-e-Alaa instead of phrase My dear Friend. \n",
    "Say Salaam Miya! instead of Greetings. \"\n",
    "\n",
    "{context}\n",
    "\n",
    "Question: {question}\n",
    "\n",
    "Helpful Answer:\"\"\"\n",
    "custom_rag_prompt = PromptTemplate.from_template(template)\n",
    "\n",
    "rag_chain = (\n",
    "    {\"context\": retriever | format_docs, \"question\": RunnablePassthrough()}\n",
    "    | custom_rag_prompt\n",
    "    | llm\n",
    "    | StrOutputParser()\n",
    ")"
   ]
  },
  {
   "cell_type": "code",
   "execution_count": 12,
   "metadata": {},
   "outputs": [
    {
     "data": {
      "text/plain": [
       "[Document(page_content='Mankameshwar Temple | The Lord of Wishes Hanuman Setu Temple | A Bridge to Devotion Kashi Vishwanath Temple | Echoes of Varanasi Bada Imambara | Nawabi Grandeur and Serenity Chota Imambara | The Palace of Lights Ramakrishna Math | A Center of Spiritual Learning Kanak Bhavan Temple | Abode of Gold Aliganj Hanuman Temple | Devotion in the Neighborhood Sankat Mochan Hanuman Temple | Banishing', metadata={'source': ['D:\\\\testDeployment\\\\all_text_file\\\\Ambedkar_memorial.txt', 'D:\\\\testDeployment\\\\all_text_file\\\\Arts_and_craft.txt', 'D:\\\\testDeployment\\\\all_text_file\\\\Art_and_Literature.txt', 'D:\\\\testDeployment\\\\all_text_file\\\\ayushman_card_hospitals.txt', 'D:\\\\testDeployment\\\\all_text_file\\\\Buddhism_In_Lucknow.txt', 'D:\\\\testDeployment\\\\all_text_file\\\\Chappan_Bhog.txt', 'D:\\\\testDeployment\\\\all_text_file\\\\Church.txt', 'D:\\\\testDeployment\\\\all_text_file\\\\Craft and Culture of Lucknow.txt', 'D:\\\\testDeployment\\\\all_text_file\\\\culture.txt', 'D:\\\\testDeployment\\\\all_text_file\\\\Dance_and_music_fetival.txt', 'D:\\\\testDeployment\\\\all_text_file\\\\data_1.txt', 'D:\\\\testDeployment\\\\all_text_file\\\\economy_1.txt', 'D:\\\\testDeployment\\\\all_text_file\\\\environmental_initiatives.txt', 'D:\\\\testDeployment\\\\all_text_file\\\\Facts.txt', 'D:\\\\testDeployment\\\\all_text_file\\\\Famous_personalities.txt', 'D:\\\\testDeployment\\\\all_text_file\\\\Food Items To Eat in Lko.txt', 'D:\\\\testDeployment\\\\all_text_file\\\\food.txt', 'D:\\\\testDeployment\\\\all_text_file\\\\food2.txt', 'D:\\\\testDeployment\\\\all_text_file\\\\food_faqs.txt', 'D:\\\\testDeployment\\\\all_text_file\\\\Ganjing_Carnival.txt', 'D:\\\\testDeployment\\\\all_text_file\\\\General_combined_data.txt', 'D:\\\\testDeployment\\\\all_text_file\\\\heritage.txt', 'D:\\\\testDeployment\\\\all_text_file\\\\Hidden_Gems_Of_Lucknow.txt', 'D:\\\\testDeployment\\\\all_text_file\\\\History of Lucknow.txt', 'D:\\\\testDeployment\\\\all_text_file\\\\history.txt', 'D:\\\\testDeployment\\\\all_text_file\\\\history1.txt', 'D:\\\\testDeployment\\\\all_text_file\\\\history2.txt', 'D:\\\\testDeployment\\\\all_text_file\\\\History_of_Lucknow.txt', 'D:\\\\testDeployment\\\\all_text_file\\\\hospitals_lucknow.txt', 'D:\\\\testDeployment\\\\all_text_file\\\\hospitals_lucknow2.txt', 'D:\\\\testDeployment\\\\all_text_file\\\\lda_initiatives.txt', 'D:\\\\testDeployment\\\\all_text_file\\\\legend.txt', 'D:\\\\testDeployment\\\\all_text_file\\\\Links.txt', 'D:\\\\testDeployment\\\\all_text_file\\\\Literature_Festival.txt', 'D:\\\\testDeployment\\\\all_text_file\\\\lmrc_initiatives.txt', 'D:\\\\testDeployment\\\\all_text_file\\\\lucknow_historical_precinct_in_first_person.txt', 'D:\\\\testDeployment\\\\all_text_file\\\\Lucknow_Mahotsav.txt', 'D:\\\\testDeployment\\\\all_text_file\\\\Mango_festival.txt', 'D:\\\\testDeployment\\\\all_text_file\\\\Mayawatis_Memorials_in_Lucknow.txt', 'D:\\\\testDeployment\\\\all_text_file\\\\Media_in_Lucknow.txt', 'D:\\\\testDeployment\\\\all_text_file\\\\modern_history.txt', 'D:\\\\testDeployment\\\\all_text_file\\\\Monuments_of_Lucknow.txt', 'D:\\\\testDeployment\\\\all_text_file\\\\Museums_in_LKO.txt', 'D:\\\\testDeployment\\\\all_text_file\\\\muslim_pilgrimages.txt', 'D:\\\\testDeployment\\\\all_text_file\\\\Parks_in_LKO.txt', 'D:\\\\testDeployment\\\\all_text_file\\\\places_to_visit_in_lucknow.txt', 'D:\\\\testDeployment\\\\all_text_file\\\\Pleasure_Trips_around_Lucknow.txt', 'D:\\\\testDeployment\\\\all_text_file\\\\sample.txt', 'D:\\\\testDeployment\\\\all_text_file\\\\sample_2.txt', 'D:\\\\testDeployment\\\\all_text_file\\\\sample_3.txt', 'D:\\\\testDeployment\\\\all_text_file\\\\sample_4.txt', 'D:\\\\testDeployment\\\\all_text_file\\\\sample_5.txt', 'D:\\\\testDeployment\\\\all_text_file\\\\startup.txt', 'D:\\\\testDeployment\\\\all_text_file\\\\temples.txt', 'D:\\\\testDeployment\\\\all_text_file\\\\The Famous Handicrafts of Lucknow.txt', 'D:\\\\testDeployment\\\\all_text_file\\\\Things to Know About Lucknow.txt', 'D:\\\\testDeployment\\\\all_text_file\\\\top_10_manufacturing_companies.txt', 'D:\\\\testDeployment\\\\all_text_file\\\\tourist_attractions_lko.txt', 'D:\\\\testDeployment\\\\all_text_file\\\\wikipedia_data_1.txt']}),\n",
       " Document(page_content='with a Shivalinga and a Nandi can be seen. Holding a high religious significance, the temple is flocked by innumerable devotees. On every Tuesday, this popular sacred site in Lucknow witnesses a huge crowd of devotees who come to offer their prayers to Lord Hanuman. Along with that, the auspicious day of Mahashivratri also receives thousands of devotees who pay their homage to Lord Shiva. On the', metadata={'source': ['D:\\\\testDeployment\\\\all_text_file\\\\Ambedkar_memorial.txt', 'D:\\\\testDeployment\\\\all_text_file\\\\Arts_and_craft.txt', 'D:\\\\testDeployment\\\\all_text_file\\\\Art_and_Literature.txt', 'D:\\\\testDeployment\\\\all_text_file\\\\ayushman_card_hospitals.txt', 'D:\\\\testDeployment\\\\all_text_file\\\\Buddhism_In_Lucknow.txt', 'D:\\\\testDeployment\\\\all_text_file\\\\Chappan_Bhog.txt', 'D:\\\\testDeployment\\\\all_text_file\\\\Church.txt', 'D:\\\\testDeployment\\\\all_text_file\\\\Craft and Culture of Lucknow.txt', 'D:\\\\testDeployment\\\\all_text_file\\\\culture.txt', 'D:\\\\testDeployment\\\\all_text_file\\\\Dance_and_music_fetival.txt', 'D:\\\\testDeployment\\\\all_text_file\\\\data_1.txt', 'D:\\\\testDeployment\\\\all_text_file\\\\economy_1.txt', 'D:\\\\testDeployment\\\\all_text_file\\\\environmental_initiatives.txt', 'D:\\\\testDeployment\\\\all_text_file\\\\Facts.txt', 'D:\\\\testDeployment\\\\all_text_file\\\\Famous_personalities.txt', 'D:\\\\testDeployment\\\\all_text_file\\\\Food Items To Eat in Lko.txt', 'D:\\\\testDeployment\\\\all_text_file\\\\food.txt', 'D:\\\\testDeployment\\\\all_text_file\\\\food2.txt', 'D:\\\\testDeployment\\\\all_text_file\\\\food_faqs.txt', 'D:\\\\testDeployment\\\\all_text_file\\\\Ganjing_Carnival.txt', 'D:\\\\testDeployment\\\\all_text_file\\\\General_combined_data.txt', 'D:\\\\testDeployment\\\\all_text_file\\\\heritage.txt', 'D:\\\\testDeployment\\\\all_text_file\\\\Hidden_Gems_Of_Lucknow.txt', 'D:\\\\testDeployment\\\\all_text_file\\\\History of Lucknow.txt', 'D:\\\\testDeployment\\\\all_text_file\\\\history.txt', 'D:\\\\testDeployment\\\\all_text_file\\\\history1.txt', 'D:\\\\testDeployment\\\\all_text_file\\\\history2.txt', 'D:\\\\testDeployment\\\\all_text_file\\\\History_of_Lucknow.txt', 'D:\\\\testDeployment\\\\all_text_file\\\\hospitals_lucknow.txt', 'D:\\\\testDeployment\\\\all_text_file\\\\hospitals_lucknow2.txt', 'D:\\\\testDeployment\\\\all_text_file\\\\lda_initiatives.txt', 'D:\\\\testDeployment\\\\all_text_file\\\\legend.txt', 'D:\\\\testDeployment\\\\all_text_file\\\\Links.txt', 'D:\\\\testDeployment\\\\all_text_file\\\\Literature_Festival.txt', 'D:\\\\testDeployment\\\\all_text_file\\\\lmrc_initiatives.txt', 'D:\\\\testDeployment\\\\all_text_file\\\\lucknow_historical_precinct_in_first_person.txt', 'D:\\\\testDeployment\\\\all_text_file\\\\Lucknow_Mahotsav.txt', 'D:\\\\testDeployment\\\\all_text_file\\\\Mango_festival.txt', 'D:\\\\testDeployment\\\\all_text_file\\\\Mayawatis_Memorials_in_Lucknow.txt', 'D:\\\\testDeployment\\\\all_text_file\\\\Media_in_Lucknow.txt', 'D:\\\\testDeployment\\\\all_text_file\\\\modern_history.txt', 'D:\\\\testDeployment\\\\all_text_file\\\\Monuments_of_Lucknow.txt', 'D:\\\\testDeployment\\\\all_text_file\\\\Museums_in_LKO.txt', 'D:\\\\testDeployment\\\\all_text_file\\\\muslim_pilgrimages.txt', 'D:\\\\testDeployment\\\\all_text_file\\\\Parks_in_LKO.txt', 'D:\\\\testDeployment\\\\all_text_file\\\\places_to_visit_in_lucknow.txt', 'D:\\\\testDeployment\\\\all_text_file\\\\Pleasure_Trips_around_Lucknow.txt', 'D:\\\\testDeployment\\\\all_text_file\\\\sample.txt', 'D:\\\\testDeployment\\\\all_text_file\\\\sample_2.txt', 'D:\\\\testDeployment\\\\all_text_file\\\\sample_3.txt', 'D:\\\\testDeployment\\\\all_text_file\\\\sample_4.txt', 'D:\\\\testDeployment\\\\all_text_file\\\\sample_5.txt', 'D:\\\\testDeployment\\\\all_text_file\\\\startup.txt', 'D:\\\\testDeployment\\\\all_text_file\\\\temples.txt', 'D:\\\\testDeployment\\\\all_text_file\\\\The Famous Handicrafts of Lucknow.txt', 'D:\\\\testDeployment\\\\all_text_file\\\\Things to Know About Lucknow.txt', 'D:\\\\testDeployment\\\\all_text_file\\\\top_10_manufacturing_companies.txt', 'D:\\\\testDeployment\\\\all_text_file\\\\tourist_attractions_lko.txt', 'D:\\\\testDeployment\\\\all_text_file\\\\wikipedia_data_1.txt']}),\n",
       " Document(page_content='Lord Hanuman Temples of Aliganj Charbagh Railway Station Gurudwara Yahiyaganj Sikandar Bagh National Botanical Research Institute Vidhan Bhawan Jain Temple La Martiniere Buddha Temple Shaheed Smarak', metadata={'source': ['D:\\\\testDeployment\\\\all_text_file\\\\Ambedkar_memorial.txt', 'D:\\\\testDeployment\\\\all_text_file\\\\Arts_and_craft.txt', 'D:\\\\testDeployment\\\\all_text_file\\\\Art_and_Literature.txt', 'D:\\\\testDeployment\\\\all_text_file\\\\ayushman_card_hospitals.txt', 'D:\\\\testDeployment\\\\all_text_file\\\\Buddhism_In_Lucknow.txt', 'D:\\\\testDeployment\\\\all_text_file\\\\Chappan_Bhog.txt', 'D:\\\\testDeployment\\\\all_text_file\\\\Church.txt', 'D:\\\\testDeployment\\\\all_text_file\\\\Craft and Culture of Lucknow.txt', 'D:\\\\testDeployment\\\\all_text_file\\\\culture.txt', 'D:\\\\testDeployment\\\\all_text_file\\\\Dance_and_music_fetival.txt', 'D:\\\\testDeployment\\\\all_text_file\\\\data_1.txt', 'D:\\\\testDeployment\\\\all_text_file\\\\economy_1.txt', 'D:\\\\testDeployment\\\\all_text_file\\\\environmental_initiatives.txt', 'D:\\\\testDeployment\\\\all_text_file\\\\Facts.txt', 'D:\\\\testDeployment\\\\all_text_file\\\\Famous_personalities.txt', 'D:\\\\testDeployment\\\\all_text_file\\\\Food Items To Eat in Lko.txt', 'D:\\\\testDeployment\\\\all_text_file\\\\food.txt', 'D:\\\\testDeployment\\\\all_text_file\\\\food2.txt', 'D:\\\\testDeployment\\\\all_text_file\\\\food_faqs.txt', 'D:\\\\testDeployment\\\\all_text_file\\\\Ganjing_Carnival.txt', 'D:\\\\testDeployment\\\\all_text_file\\\\General_combined_data.txt', 'D:\\\\testDeployment\\\\all_text_file\\\\heritage.txt', 'D:\\\\testDeployment\\\\all_text_file\\\\Hidden_Gems_Of_Lucknow.txt', 'D:\\\\testDeployment\\\\all_text_file\\\\History of Lucknow.txt', 'D:\\\\testDeployment\\\\all_text_file\\\\history.txt', 'D:\\\\testDeployment\\\\all_text_file\\\\history1.txt', 'D:\\\\testDeployment\\\\all_text_file\\\\history2.txt', 'D:\\\\testDeployment\\\\all_text_file\\\\History_of_Lucknow.txt', 'D:\\\\testDeployment\\\\all_text_file\\\\hospitals_lucknow.txt', 'D:\\\\testDeployment\\\\all_text_file\\\\hospitals_lucknow2.txt', 'D:\\\\testDeployment\\\\all_text_file\\\\lda_initiatives.txt', 'D:\\\\testDeployment\\\\all_text_file\\\\legend.txt', 'D:\\\\testDeployment\\\\all_text_file\\\\Links.txt', 'D:\\\\testDeployment\\\\all_text_file\\\\Literature_Festival.txt', 'D:\\\\testDeployment\\\\all_text_file\\\\lmrc_initiatives.txt', 'D:\\\\testDeployment\\\\all_text_file\\\\lucknow_historical_precinct_in_first_person.txt', 'D:\\\\testDeployment\\\\all_text_file\\\\Lucknow_Mahotsav.txt', 'D:\\\\testDeployment\\\\all_text_file\\\\Mango_festival.txt', 'D:\\\\testDeployment\\\\all_text_file\\\\Mayawatis_Memorials_in_Lucknow.txt', 'D:\\\\testDeployment\\\\all_text_file\\\\Media_in_Lucknow.txt', 'D:\\\\testDeployment\\\\all_text_file\\\\modern_history.txt', 'D:\\\\testDeployment\\\\all_text_file\\\\Monuments_of_Lucknow.txt', 'D:\\\\testDeployment\\\\all_text_file\\\\Museums_in_LKO.txt', 'D:\\\\testDeployment\\\\all_text_file\\\\muslim_pilgrimages.txt', 'D:\\\\testDeployment\\\\all_text_file\\\\Parks_in_LKO.txt', 'D:\\\\testDeployment\\\\all_text_file\\\\places_to_visit_in_lucknow.txt', 'D:\\\\testDeployment\\\\all_text_file\\\\Pleasure_Trips_around_Lucknow.txt', 'D:\\\\testDeployment\\\\all_text_file\\\\sample.txt', 'D:\\\\testDeployment\\\\all_text_file\\\\sample_2.txt', 'D:\\\\testDeployment\\\\all_text_file\\\\sample_3.txt', 'D:\\\\testDeployment\\\\all_text_file\\\\sample_4.txt', 'D:\\\\testDeployment\\\\all_text_file\\\\sample_5.txt', 'D:\\\\testDeployment\\\\all_text_file\\\\startup.txt', 'D:\\\\testDeployment\\\\all_text_file\\\\temples.txt', 'D:\\\\testDeployment\\\\all_text_file\\\\The Famous Handicrafts of Lucknow.txt', 'D:\\\\testDeployment\\\\all_text_file\\\\Things to Know About Lucknow.txt', 'D:\\\\testDeployment\\\\all_text_file\\\\top_10_manufacturing_companies.txt', 'D:\\\\testDeployment\\\\all_text_file\\\\tourist_attractions_lko.txt', 'D:\\\\testDeployment\\\\all_text_file\\\\wikipedia_data_1.txt']}),\n",
       " Document(page_content='As per my observation, one of the most viable reasons seems to be the advent of the plethora of literature on Ambedkar, Asoka and Buddha written largely by government employees after 1990 and their active involvement in the dhamma activities. The census office in India for the first time in its history also revealed that almost 70% of the Buddhist population in Uttar Pradesh is from the scheduled', metadata={'source': ['D:\\\\testDeployment\\\\all_text_file\\\\Ambedkar_memorial.txt', 'D:\\\\testDeployment\\\\all_text_file\\\\Arts_and_craft.txt', 'D:\\\\testDeployment\\\\all_text_file\\\\Art_and_Literature.txt', 'D:\\\\testDeployment\\\\all_text_file\\\\ayushman_card_hospitals.txt', 'D:\\\\testDeployment\\\\all_text_file\\\\Buddhism_In_Lucknow.txt', 'D:\\\\testDeployment\\\\all_text_file\\\\Chappan_Bhog.txt', 'D:\\\\testDeployment\\\\all_text_file\\\\Church.txt', 'D:\\\\testDeployment\\\\all_text_file\\\\Craft and Culture of Lucknow.txt', 'D:\\\\testDeployment\\\\all_text_file\\\\culture.txt', 'D:\\\\testDeployment\\\\all_text_file\\\\Dance_and_music_fetival.txt', 'D:\\\\testDeployment\\\\all_text_file\\\\data_1.txt', 'D:\\\\testDeployment\\\\all_text_file\\\\economy_1.txt', 'D:\\\\testDeployment\\\\all_text_file\\\\environmental_initiatives.txt', 'D:\\\\testDeployment\\\\all_text_file\\\\Facts.txt', 'D:\\\\testDeployment\\\\all_text_file\\\\Famous_personalities.txt', 'D:\\\\testDeployment\\\\all_text_file\\\\Food Items To Eat in Lko.txt', 'D:\\\\testDeployment\\\\all_text_file\\\\food.txt', 'D:\\\\testDeployment\\\\all_text_file\\\\food2.txt', 'D:\\\\testDeployment\\\\all_text_file\\\\food_faqs.txt', 'D:\\\\testDeployment\\\\all_text_file\\\\Ganjing_Carnival.txt', 'D:\\\\testDeployment\\\\all_text_file\\\\General_combined_data.txt', 'D:\\\\testDeployment\\\\all_text_file\\\\heritage.txt', 'D:\\\\testDeployment\\\\all_text_file\\\\Hidden_Gems_Of_Lucknow.txt', 'D:\\\\testDeployment\\\\all_text_file\\\\History of Lucknow.txt', 'D:\\\\testDeployment\\\\all_text_file\\\\history.txt', 'D:\\\\testDeployment\\\\all_text_file\\\\history1.txt', 'D:\\\\testDeployment\\\\all_text_file\\\\history2.txt', 'D:\\\\testDeployment\\\\all_text_file\\\\History_of_Lucknow.txt', 'D:\\\\testDeployment\\\\all_text_file\\\\hospitals_lucknow.txt', 'D:\\\\testDeployment\\\\all_text_file\\\\hospitals_lucknow2.txt', 'D:\\\\testDeployment\\\\all_text_file\\\\lda_initiatives.txt', 'D:\\\\testDeployment\\\\all_text_file\\\\legend.txt', 'D:\\\\testDeployment\\\\all_text_file\\\\Links.txt', 'D:\\\\testDeployment\\\\all_text_file\\\\Literature_Festival.txt', 'D:\\\\testDeployment\\\\all_text_file\\\\lmrc_initiatives.txt', 'D:\\\\testDeployment\\\\all_text_file\\\\lucknow_historical_precinct_in_first_person.txt', 'D:\\\\testDeployment\\\\all_text_file\\\\Lucknow_Mahotsav.txt', 'D:\\\\testDeployment\\\\all_text_file\\\\Mango_festival.txt', 'D:\\\\testDeployment\\\\all_text_file\\\\Mayawatis_Memorials_in_Lucknow.txt', 'D:\\\\testDeployment\\\\all_text_file\\\\Media_in_Lucknow.txt', 'D:\\\\testDeployment\\\\all_text_file\\\\modern_history.txt', 'D:\\\\testDeployment\\\\all_text_file\\\\Monuments_of_Lucknow.txt', 'D:\\\\testDeployment\\\\all_text_file\\\\Museums_in_LKO.txt', 'D:\\\\testDeployment\\\\all_text_file\\\\muslim_pilgrimages.txt', 'D:\\\\testDeployment\\\\all_text_file\\\\Parks_in_LKO.txt', 'D:\\\\testDeployment\\\\all_text_file\\\\places_to_visit_in_lucknow.txt', 'D:\\\\testDeployment\\\\all_text_file\\\\Pleasure_Trips_around_Lucknow.txt', 'D:\\\\testDeployment\\\\all_text_file\\\\sample.txt', 'D:\\\\testDeployment\\\\all_text_file\\\\sample_2.txt', 'D:\\\\testDeployment\\\\all_text_file\\\\sample_3.txt', 'D:\\\\testDeployment\\\\all_text_file\\\\sample_4.txt', 'D:\\\\testDeployment\\\\all_text_file\\\\sample_5.txt', 'D:\\\\testDeployment\\\\all_text_file\\\\startup.txt', 'D:\\\\testDeployment\\\\all_text_file\\\\temples.txt', 'D:\\\\testDeployment\\\\all_text_file\\\\The Famous Handicrafts of Lucknow.txt', 'D:\\\\testDeployment\\\\all_text_file\\\\Things to Know About Lucknow.txt', 'D:\\\\testDeployment\\\\all_text_file\\\\top_10_manufacturing_companies.txt', 'D:\\\\testDeployment\\\\all_text_file\\\\tourist_attractions_lko.txt', 'D:\\\\testDeployment\\\\all_text_file\\\\wikipedia_data_1.txt']})]"
      ]
     },
     "execution_count": 12,
     "metadata": {},
     "output_type": "execute_result"
    }
   ],
   "source": [
    "retriever.get_relevant_documents('Hanumant Dham')"
   ]
  },
  {
   "cell_type": "code",
   "execution_count": 11,
   "metadata": {},
   "outputs": [
    {
     "name": "stdout",
     "output_type": "stream",
     "text": [
      "Salaam Miya! Janab-e-Alaa, Hum Lallan, Lucknow ke baare mein aapke guide hain. Aap Lucknow ke mandir dekhenge toh aapko maza aa jayega!\n",
      "\n",
      "1. Lord Shantinath and Lord Padma Prabhu Temple\n",
      "2. Lord Parshwanath Temple\n",
      "3. Lord Sambhavnath Temple\n",
      "4. Thakurganj ke mandir\n",
      "5. Daliganj ke mandir\n",
      "\n",
      "In Lucknow, mandir har jagah hain. Aap jahaan bhi jaoge, mandir mil jayenge. To aap Lucknow aaiye aur mandirों ke darshan kariye. Aapko bahut maza aayega!\n"
     ]
    }
   ],
   "source": [
    "print(rag_chain.invoke(\"\"))"
   ]
  },
  {
   "cell_type": "code",
   "execution_count": 13,
   "metadata": {},
   "outputs": [],
   "source": [
    "questions = [\n",
    "    \"Where is Turkish Gate?\",\n",
    "    \"Family businesses in Lucknow?\",\n",
    "    \"Where is the art gallery situated in Lucknow?\",\n",
    "    \"Fourth Nawab of Awadh\",\n",
    "    \"Writers of Lucknow\",\n",
    "    \"What is Zardozi?\",\n",
    "    \"Tell me about Keshav Dev Temple.\",\n",
    "    \"Patangbazi/kabutarbazi in Lucknow\",\n",
    "    \"Who was Akhtari Pia?\",\n",
    "    \"What is Zarbuland?\",\n",
    "    \"History of Lucknow Mahotsav?\",\n",
    "    \"What is Chappan Hog?\",\n",
    "    \"Where is Mushayara organized usually?\",\n",
    "    \"Products offered in Lucknow Mahotsav?\",\n",
    "    \"BBD\",\n",
    "    \"Beside which river Lucknow city is situated?\",\n",
    "    \"Largest city of Uttar Pradesh?\",\n",
    "    \"Elevation of Lucknow from sea level\",\n",
    "    \"Wizir Ali’s father name is?\",\n",
    "    \"Asia's largest hall without any additional support of beams\",\n",
    "    \"Origin of Lucknow?\",\n",
    "    \"Turkish architecture\",\n",
    "    \"Popular institutions of Lucknow?\",\n",
    "    \"Famous people of Lucknow?\",\n",
    "    \"Who is Salman Akhtar?\",\n",
    "    \"Who is Kailash Nath Kaul?\",\n",
    "    \"Who is the founder of “All India Mir Academy”?\",\n",
    "    \"Famous actors born in Lucknow?\",\n",
    "    \"How is Prakash's Kulfi?\",\n",
    "    \"Where can I find the best kachori in Lucknow?\",\n",
    "    \"Best place to eat chaat in Lucknow\",\n",
    "    \"Who serves the best biryani in Lucknow?\",\n",
    "    \"Where can I get the best paan in Lucknow?\",\n",
    "    \"What is the usual price of biryani?\",\n",
    "    \"Tell me about Tunday Kebabs\",\n",
    "    \"Most famous food?\",\n",
    "    \"Best places to try Malai Makhan?\",\n",
    "    \"Which hospitals provide PMJAY facility?\",\n",
    "    \"List 10 hospitals in Lucknow\",\n",
    "    \"History of Lucknow as per Ramayana?\",\n",
    "    \"Invasion of Saiyid Masud Ghazi\",\n",
    "    \"What was the time when silver coins were used as currency?\",\n",
    "    \"Why Avadh is claimed to be among the most ancient Hindu states?\",\n",
    "    \"When did the East India Company first move in?\",\n",
    "    \"When did Lucknow become?\",\n",
    "    \"Where can I learn music?\",\n",
    "    \"Why Lucknow is called the city of Nawabs?\",\n",
    "    \"What is Factoid?\",\n",
    "    \"When did the Khilafat Movement happen?\",\n",
    "    \"Legend of Lucknow?\",\n",
    "    \"Is it true Lucknow got its name after Lord Laxman?\",\n",
    "    \"Explain Ganga-Yamuni culture\",\n",
    "    \"Where can I buy Chikankari clothes?\",\n",
    "    \"Tell me about HeathTokri, a startup\",\n",
    "    \"Who are TechEagle?\",\n",
    "    \"Who is the founder of KnockSense?\",\n",
    "    \"Best place to do street shopping?\",\n",
    "    \"Where can I get garments at cheap rates?\",\n",
    "    \"Where can I buy PC parts?\",\n",
    "    \"First newspaper of Lucknow?\",\n",
    "    \"Situation of Radio in Lucknow?\",\n",
    "    \"When was Ambedkar Memorial Complex built?\",\n",
    "    \"Who is Kanshi Ram and what did he do for Lucknow?\",\n",
    "    \"Give details about Prerna Kendra\",\n",
    "    \"What is Chunar sandstone?\",\n",
    "    \"Largest dome hall of the world?\",\n",
    "    \"How many halls are there in Bada Imambara?\",\n",
    "    \"Ticket price to visit Imambara?\",\n",
    "    \"Museum in Lucknow\",\n",
    "    \"Tell me about Christ Church\",\n",
    "    \"Where is All Saints Garrison Church located?\",\n",
    "    \"Give details about Sri Venkateshwar Temple\",\n",
    "    \"List some temples to visit in Lucknow?\",\n",
    "    \"Where is Jama Masjid in Lucknow?\",\n",
    "    \"How is Kali Badi Temple?\",\n",
    "    \"Is there any Buddhist temple in Lucknow?\",\n",
    "    \"What is the ticket price of Hussainabad Picture Gallery?\",\n",
    "    \"When was Lok Kala Sanrahalaya founded?\",\n",
    "    \"Who made Gandhi Museum Lucknow?\",\n",
    "    \"Where is Science City in Lucknow?\",\n",
    "    \"List names of parks in Lucknow\",\n",
    "    \"Is there any zoo in Lucknow?\",\n",
    "    \"List some must-visit places in Lucknow.\",\n",
    "    \"What is LSA?\",\n",
    "    \"How is the drainage system managed in Lucknow?\",\n",
    "    \"Tell me about Re Sustainability Limited\",\n",
    "    \"What technology does Lucknow use for sustainable development?\",\n",
    "    \"What is the job of LDA (Lucknow Development Authority)?\",\n",
    "    \"How is Metro in Lucknow?\"\n",
    "]\n"
   ]
  },
  {
   "cell_type": "code",
   "execution_count": 17,
   "metadata": {},
   "outputs": [
    {
     "name": "stdout",
     "output_type": "stream",
     "text": [
      "Questions and answers saved to 'lucknow_questions_answers.json'.\n"
     ]
    }
   ],
   "source": [
    "import json\n",
    "\n",
    "# Function to get answers for each question\n",
    "def get_answers(questions):\n",
    "    answers = {}\n",
    "    for question in questions:\n",
    "        try: \n",
    "            answer = rag_chain.invoke(question)\n",
    "            answers[question] = answer\n",
    "        except Exception as e:    \n",
    "            answers[question] = str(e)\n",
    "    return answers\n",
    "\n",
    "# Main function to run the script\n",
    "def main():\n",
    "    questions = questions = [\n",
    "    \"Where is Turkish Gate?\",\n",
    "    \"Family businesses in Lucknow?\",\n",
    "    \"Where is the art gallery situated in Lucknow?\",\n",
    "    \"Fourth Nawab of Awadh\",\n",
    "    \"Writers of Lucknow\",\n",
    "    \"What is Zardozi?\",\n",
    "    \"Tell me about Keshav Dev Temple.\",\n",
    "    \"Patangbazi/kabutarbazi in Lucknow\",\n",
    "    \"Who was Akhtari Pia?\",\n",
    "    \"What is Zarbuland?\",\n",
    "    \"History of Lucknow Mahotsav?\",\n",
    "    \"What is Chappan Hog?\",\n",
    "    \"Where is Mushayara organized usually?\",\n",
    "    \"Products offered in Lucknow Mahotsav?\",\n",
    "    \"BBD\",\n",
    "    \"Beside which river Lucknow city is situated?\",\n",
    "    \"Largest city of Uttar Pradesh?\",\n",
    "    \"Elevation of Lucknow from sea level\",\n",
    "    \"Wizir Ali’s father name is?\",\n",
    "    \"Asia's largest hall without any additional support of beams\",\n",
    "    \"Origin of Lucknow?\",\n",
    "    \"Turkish architecture\",\n",
    "    \"Popular institutions of Lucknow?\",\n",
    "    \"Famous people of Lucknow?\",\n",
    "    \"Who is Salman Akhtar?\",\n",
    "    \"Who is Kailash Nath Kaul?\",\n",
    "    \"Who is the founder of “All India Mir Academy”?\",\n",
    "    \"Famous actors born in Lucknow?\",\n",
    "    \"How is Prakash's Kulfi?\",\n",
    "    \"Where can I find the best kachori in Lucknow?\",\n",
    "    \"Best place to eat chaat in Lucknow\",\n",
    "    \"Who serves the best biryani in Lucknow?\",\n",
    "    \"Where can I get the best paan in Lucknow?\",\n",
    "    \"What is the usual price of biryani?\",\n",
    "    \"Tell me about Tunday Kebabs\",\n",
    "    \"Most famous food?\",\n",
    "    \"Best places to try Malai Makhan?\",\n",
    "    \"Which hospitals provide PMJAY facility?\",\n",
    "    \"List 10 hospitals in Lucknow\",\n",
    "    \"History of Lucknow as per Ramayana?\",\n",
    "    \"Invasion of Saiyid Masud Ghazi\",\n",
    "    \"What was the time when silver coins were used as currency?\",\n",
    "    \"Why Avadh is claimed to be among the most ancient Hindu states?\",\n",
    "    \"When did the East India Company first move in?\",\n",
    "    \"When did Lucknow become?\",\n",
    "    \"Where can I learn music?\",\n",
    "    \"Why Lucknow is called the city of Nawabs?\",\n",
    "    \"What is Factoid?\",\n",
    "    \"When did the Khilafat Movement happen?\",\n",
    "    \"Legend of Lucknow?\",\n",
    "    \"Is it true Lucknow got its name after Lord Laxman?\",\n",
    "    \"Explain Ganga-Yamuni culture\",\n",
    "    \"Where can I buy Chikankari clothes?\",\n",
    "    \"Tell me about HeathTokri, a startup\",\n",
    "    \"Who are TechEagle?\",\n",
    "    \"Who is the founder of KnockSense?\",\n",
    "    \"Best place to do street shopping?\",\n",
    "    \"Where can I get garments at cheap rates?\",\n",
    "    \"Where can I buy PC parts?\",\n",
    "    \"First newspaper of Lucknow?\",\n",
    "    \"Situation of Radio in Lucknow?\",\n",
    "    \"When was Ambedkar Memorial Complex built?\",\n",
    "    \"Who is Kanshi Ram and what did he do for Lucknow?\",\n",
    "    \"Give details about Prerna Kendra\",\n",
    "    \"What is Chunar sandstone?\",\n",
    "    \"Largest dome hall of the world?\",\n",
    "    \"How many halls are there in Bada Imambara?\",\n",
    "    \"Ticket price to visit Imambara?\",\n",
    "    \"Museum in Lucknow\",\n",
    "    \"Tell me about Christ Church\",\n",
    "    \"Where is All Saints Garrison Church located?\",\n",
    "    \"Give details about Sri Venkateshwar Temple\",\n",
    "    \"List some temples to visit in Lucknow?\",\n",
    "    \"Where is Jama Masjid in Lucknow?\",\n",
    "    \"How is Kali Badi Temple?\",\n",
    "    \"Is there any Buddhist temple in Lucknow?\",\n",
    "    \"What is the ticket price of Hussainabad Picture Gallery?\",\n",
    "    \"When was Lok Kala Sanrahalaya founded?\",\n",
    "    \"Who made Gandhi Museum Lucknow?\",\n",
    "    \"Where is Science City in Lucknow?\",\n",
    "    \"List names of parks in Lucknow\",\n",
    "    \"Is there any zoo in Lucknow?\",\n",
    "    \"List some must-visit places in Lucknow.\",\n",
    "    \"What is LSA?\",\n",
    "    \"How is the drainage system managed in Lucknow?\",\n",
    "    \"Tell me about Re Sustainability Limited\",\n",
    "    \"What technology does Lucknow use for sustainable development?\",\n",
    "    \"What is the job of LDA (Lucknow Development Authority)?\",\n",
    "    \"How is Metro in Lucknow?\"\n",
    "]\n",
    "\n",
    "    answers = get_answers(questions)\n",
    "\n",
    "    # Save questions and answers to JSON file\n",
    "    with open('lucknow_questions_answers.json', 'w') as json_file:\n",
    "        json.dump(answers, json_file, indent=4)\n",
    "\n",
    "    print(\"Questions and answers saved to 'lucknow_questions_answers.json'.\")\n",
    "\n",
    "if __name__ == \"__main__\":\n",
    "    main()\n"
   ]
  },
  {
   "cell_type": "code",
   "execution_count": null,
   "metadata": {},
   "outputs": [],
   "source": []
  }
 ],
 "metadata": {
  "kernelspec": {
   "display_name": "base",
   "language": "python",
   "name": "python3"
  },
  "language_info": {
   "codemirror_mode": {
    "name": "ipython",
    "version": 3
   },
   "file_extension": ".py",
   "mimetype": "text/x-python",
   "name": "python",
   "nbconvert_exporter": "python",
   "pygments_lexer": "ipython3",
   "version": "3.9.18"
  }
 },
 "nbformat": 4,
 "nbformat_minor": 2
}
