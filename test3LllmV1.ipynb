{
 "cells": [
  {
   "cell_type": "code",
   "execution_count": 2,
   "metadata": {},
   "outputs": [
    {
     "name": "stdout",
     "output_type": "stream",
     "text": [
      "Requirement already satisfied: sentence_transformers in c:\\users\\aayus\\anaconda3\\lib\\site-packages (2.6.1)\n",
      "Requirement already satisfied: transformers<5.0.0,>=4.32.0 in c:\\users\\aayus\\anaconda3\\lib\\site-packages (from sentence_transformers) (4.39.3)\n",
      "Requirement already satisfied: tqdm in c:\\users\\aayus\\anaconda3\\lib\\site-packages (from sentence_transformers) (4.65.0)\n",
      "Requirement already satisfied: torch>=1.11.0 in c:\\users\\aayus\\anaconda3\\lib\\site-packages (from sentence_transformers) (2.2.2)\n",
      "Requirement already satisfied: numpy in c:\\users\\aayus\\anaconda3\\lib\\site-packages (from sentence_transformers) (1.24.0)\n",
      "Requirement already satisfied: scikit-learn in c:\\users\\aayus\\anaconda3\\lib\\site-packages (from sentence_transformers) (1.3.0)\n",
      "Requirement already satisfied: scipy in c:\\users\\aayus\\anaconda3\\lib\\site-packages (from sentence_transformers) (1.11.4)\n",
      "Requirement already satisfied: huggingface-hub>=0.15.1 in c:\\users\\aayus\\anaconda3\\lib\\site-packages (from sentence_transformers) (0.22.2)\n",
      "Requirement already satisfied: Pillow in c:\\users\\aayus\\anaconda3\\lib\\site-packages (from sentence_transformers) (10.0.1)\n",
      "Requirement already satisfied: filelock in c:\\users\\aayus\\anaconda3\\lib\\site-packages (from huggingface-hub>=0.15.1->sentence_transformers) (3.12.0)\n",
      "Requirement already satisfied: fsspec>=2023.5.0 in c:\\users\\aayus\\anaconda3\\lib\\site-packages (from huggingface-hub>=0.15.1->sentence_transformers) (2023.10.0)\n",
      "Requirement already satisfied: packaging>=20.9 in c:\\users\\aayus\\anaconda3\\lib\\site-packages (from huggingface-hub>=0.15.1->sentence_transformers) (23.2)\n",
      "Requirement already satisfied: pyyaml>=5.1 in c:\\users\\aayus\\anaconda3\\lib\\site-packages (from huggingface-hub>=0.15.1->sentence_transformers) (6.0.1)\n",
      "Requirement already satisfied: requests in c:\\users\\aayus\\anaconda3\\lib\\site-packages (from huggingface-hub>=0.15.1->sentence_transformers) (2.31.0)\n",
      "Requirement already satisfied: typing-extensions>=3.7.4.3 in c:\\users\\aayus\\anaconda3\\lib\\site-packages (from huggingface-hub>=0.15.1->sentence_transformers) (4.9.0)\n",
      "Requirement already satisfied: sympy in c:\\users\\aayus\\anaconda3\\lib\\site-packages (from torch>=1.11.0->sentence_transformers) (1.12)\n",
      "Requirement already satisfied: networkx in c:\\users\\aayus\\anaconda3\\lib\\site-packages (from torch>=1.11.0->sentence_transformers) (3.1)\n",
      "Requirement already satisfied: jinja2 in c:\\users\\aayus\\anaconda3\\lib\\site-packages (from torch>=1.11.0->sentence_transformers) (3.1.2)\n",
      "Requirement already satisfied: colorama in c:\\users\\aayus\\anaconda3\\lib\\site-packages (from tqdm->sentence_transformers) (0.4.6)\n",
      "Requirement already satisfied: regex!=2019.12.17 in c:\\users\\aayus\\anaconda3\\lib\\site-packages (from transformers<5.0.0,>=4.32.0->sentence_transformers) (2023.10.3)\n",
      "Requirement already satisfied: tokenizers<0.19,>=0.14 in c:\\users\\aayus\\anaconda3\\lib\\site-packages (from transformers<5.0.0,>=4.32.0->sentence_transformers) (0.15.2)\n",
      "Requirement already satisfied: safetensors>=0.4.1 in c:\\users\\aayus\\anaconda3\\lib\\site-packages (from transformers<5.0.0,>=4.32.0->sentence_transformers) (0.4.2)\n",
      "Requirement already satisfied: joblib>=1.1.1 in c:\\users\\aayus\\anaconda3\\lib\\site-packages (from scikit-learn->sentence_transformers) (1.2.0)\n",
      "Requirement already satisfied: threadpoolctl>=2.0.0 in c:\\users\\aayus\\anaconda3\\lib\\site-packages (from scikit-learn->sentence_transformers) (2.2.0)\n",
      "Requirement already satisfied: MarkupSafe>=2.0 in c:\\users\\aayus\\anaconda3\\lib\\site-packages (from jinja2->torch>=1.11.0->sentence_transformers) (2.1.3)\n",
      "Requirement already satisfied: charset-normalizer<4,>=2 in c:\\users\\aayus\\anaconda3\\lib\\site-packages (from requests->huggingface-hub>=0.15.1->sentence_transformers) (2.0.4)\n",
      "Requirement already satisfied: idna<4,>=2.5 in c:\\users\\aayus\\anaconda3\\lib\\site-packages (from requests->huggingface-hub>=0.15.1->sentence_transformers) (3.4)\n",
      "Requirement already satisfied: urllib3<3,>=1.21.1 in c:\\users\\aayus\\anaconda3\\lib\\site-packages (from requests->huggingface-hub>=0.15.1->sentence_transformers) (1.26.18)\n",
      "Requirement already satisfied: certifi>=2017.4.17 in c:\\users\\aayus\\anaconda3\\lib\\site-packages (from requests->huggingface-hub>=0.15.1->sentence_transformers) (2023.11.17)\n",
      "Requirement already satisfied: mpmath>=0.19 in c:\\users\\aayus\\anaconda3\\lib\\site-packages (from sympy->torch>=1.11.0->sentence_transformers) (1.3.0)\n"
     ]
    },
    {
     "name": "stderr",
     "output_type": "stream",
     "text": [
      "WARNING: Ignoring invalid distribution -atplotlib (c:\\users\\aayus\\anaconda3\\lib\\site-packages)\n",
      "WARNING: Ignoring invalid distribution -ensorflow-intel (c:\\users\\aayus\\anaconda3\\lib\\site-packages)\n",
      "WARNING: Ignoring invalid distribution -pencv-python (c:\\users\\aayus\\anaconda3\\lib\\site-packages)\n",
      "WARNING: Ignoring invalid distribution -atplotlib (c:\\users\\aayus\\anaconda3\\lib\\site-packages)\n",
      "WARNING: Ignoring invalid distribution -ensorflow-intel (c:\\users\\aayus\\anaconda3\\lib\\site-packages)\n",
      "WARNING: Ignoring invalid distribution -pencv-python (c:\\users\\aayus\\anaconda3\\lib\\site-packages)\n"
     ]
    },
    {
     "name": "stdout",
     "output_type": "stream",
     "text": [
      "Collecting git+https://github.com/LucknowAI/Lucknow-LLM\n",
      "  Cloning https://github.com/LucknowAI/Lucknow-LLM to c:\\users\\aayus\\appdata\\local\\temp\\pip-req-build-tbd4i46i\n",
      "  Resolved https://github.com/LucknowAI/Lucknow-LLM to commit afd5bc964a43f368ee5740644a936a1a935c875d\n",
      "  Preparing metadata (setup.py): started\n",
      "  Preparing metadata (setup.py): finished with status 'done'\n"
     ]
    },
    {
     "name": "stderr",
     "output_type": "stream",
     "text": [
      "WARNING: Ignoring invalid distribution -atplotlib (c:\\users\\aayus\\anaconda3\\lib\\site-packages)\n",
      "WARNING: Ignoring invalid distribution -ensorflow-intel (c:\\users\\aayus\\anaconda3\\lib\\site-packages)\n",
      "WARNING: Ignoring invalid distribution -pencv-python (c:\\users\\aayus\\anaconda3\\lib\\site-packages)\n",
      "  Running command git clone --filter=blob:none --quiet https://github.com/LucknowAI/Lucknow-LLM 'C:\\Users\\aayus\\AppData\\Local\\Temp\\pip-req-build-tbd4i46i'\n",
      "WARNING: Ignoring invalid distribution -atplotlib (c:\\users\\aayus\\anaconda3\\lib\\site-packages)\n",
      "WARNING: Ignoring invalid distribution -ensorflow-intel (c:\\users\\aayus\\anaconda3\\lib\\site-packages)\n",
      "WARNING: Ignoring invalid distribution -pencv-python (c:\\users\\aayus\\anaconda3\\lib\\site-packages)\n"
     ]
    }
   ],
   "source": [
    "!pip install sentence_transformers\n",
    "!pip install git+https://github.com/LucknowAI/Lucknow-LLM"
   ]
  },
  {
   "cell_type": "code",
   "execution_count": 1,
   "metadata": {},
   "outputs": [],
   "source": [
    "import os\n",
    "import re\n",
    "import numpy as np\n",
    "from sentence_transformers import SentenceTransformer\n",
    "from lucknowllm import GeminiModel"
   ]
  },
  {
   "cell_type": "code",
   "execution_count": 3,
   "metadata": {},
   "outputs": [],
   "source": [
    "MODEL_NAME = 'paraphrase-MiniLM-L6-v2'\n",
    "API_KEY = ''\n",
    "GEMINI_NAME = 'gemini-1.0-pro'"
   ]
  },
  {
   "cell_type": "markdown",
   "metadata": {},
   "source": []
  },
  {
   "cell_type": "code",
   "execution_count": 4,
   "metadata": {},
   "outputs": [],
   "source": [
    "\n",
    "sen_model = SentenceTransformer(MODEL_NAME)\n",
    "gemini_model = GeminiModel(api_key = API_KEY, model_name = GEMINI_NAME)"
   ]
  },
  {
   "cell_type": "code",
   "execution_count": 29,
   "metadata": {},
   "outputs": [],
   "source": [
    "def chunker(path):\n",
    "    with open(path, 'r' , encoding='utf-8') as f:\n",
    "        data = f.read()\n",
    "        f.close()\n",
    "\n",
    "    from langchain.text_splitter import CharacterTextSplitter, TokenTextSplitter, RecursiveCharacterTextSplitter\n",
    "    CHUNK_SIZE = 800\n",
    "    CHUNK_OVERLAP = 200\n",
    "\n",
    "    text_splitter = RecursiveCharacterTextSplitter(chunk_size = CHUNK_SIZE, chunk_overlap = CHUNK_OVERLAP, is_separator_regex= False)\n",
    "    docs = text_splitter.split_text(data)\n",
    "    return docs\n",
    "    "
   ]
  },
  {
   "cell_type": "code",
   "execution_count": 30,
   "metadata": {},
   "outputs": [],
   "source": [
    "def chunks_loader():\n",
    "    chunk = []\n",
    "    for i in os.listdir(r'C:\\Users\\aayus\\Lucknow-LLM-data\\Lucknow-LLM-main\\Lucknow-LLM-main\\lucknowllm\\data\\Unstructured_data'):\n",
    "        file_path = r'C:\\Users\\aayus\\Lucknow-LLM-data\\Lucknow-LLM-main\\Lucknow-LLM-main\\lucknowllm\\data\\Unstructured_data' + '\\\\' + str(i)\n",
    "        for j in os.listdir(file_path):\n",
    "            chunk.extend(chunker(file_path + '\\\\' + str(j)))\n",
    "    return chunk"
   ]
  },
  {
   "cell_type": "code",
   "execution_count": 31,
   "metadata": {},
   "outputs": [],
   "source": [
    "def embed_creator_data(model, data):\n",
    "    return model.encode(data)\n",
    "\n",
    "def embed_creator_query(model, data):\n",
    "    return model.encode(data)"
   ]
  },
  {
   "cell_type": "code",
   "execution_count": 32,
   "metadata": {},
   "outputs": [],
   "source": [
    "embed_data = chunks_loader()\n",
    "data_embed = embed_creator_data(sen_model, embed_data)"
   ]
  },
  {
   "cell_type": "code",
   "execution_count": 33,
   "metadata": {},
   "outputs": [],
   "source": [
    "embed_query = embed_creator_query(sen_model, ['Give the details about Art and literature in you city'])"
   ]
  },
  {
   "cell_type": "code",
   "execution_count": 34,
   "metadata": {},
   "outputs": [],
   "source": [
    "top_indices = find_similarity(embed_query,data_embed)"
   ]
  },
  {
   "cell_type": "code",
   "execution_count": 35,
   "metadata": {},
   "outputs": [
    {
     "name": "stdout",
     "output_type": "stream",
     "text": [
      "Books Galore at Libraries and Book Markets of Lucknow  \n",
      "\n",
      "Book lovers or people who are very fond of reading can explore variety of books, novels and magazines at prominent libraries and book stores situated in the city. The experience of exploring these masterpieces will be enlightening and rewarding as well.\n",
      "\n",
      "A visit to the city cannot be complete without a visit to the prominent libraries and book markets as these are the places where you can get to know about the culture and essence of the city dwellers, their past and what goes into the making of the legacy called “Lakhnau”.\n",
      "\n",
      "\n",
      "\n",
      "\n",
      "LUCKNOW ATTAR:\n",
      "The Literary festival once again invoke the creative spirit of the city and bring together the scholars from all over the country. The festival witnessed a  diverse spectrum of novelists, playwrights, poets, screenwriters, journalists, lyricists and bloggers which usher in the revival of the city’s literary culture in 2 day festival at 3 auditoriums. Books were launched, contemporary and historical issues were discussed and debated threadbare. Through reading sessions the average reader re-discovered the joys of the books. Inaugurated traditionally with Vandana / Bharat Natyam Performance by Hiroko Fujiwara from Japan. The following books were launched : A Leaf Turns Yellow by Muzaffar Ali; In Good Faith by Saba Naqvi; Toke by Jugal Mody; The Virtuals by Anupam Sinha; Yaad Shaher by\n",
      "The Literary festival once again invoke the creative spirit of the city and bring together the scholars from all over the country. The festival witnessed a  diverse spectrum of novelists, playwrights, poets, screenwriters, journalists, lyricists and bloggers which usher in the revival of the city’s literary culture in 2 day festival at 3 auditoriums. Books were launched, contemporary and historical issues were discussed and debated threadbare. Through reading sessions the average reader re-discovered the joys of the books. Inaugurated traditionally with Vandana / Bharat Natyam Performance by Hiroko Fujiwara from Japan. The following books were launched : A Leaf Turns Yellow by Muzaffar Ali; In Good Faith by Saba Naqvi; Toke by Jugal Mody; The Virtuals by Anupam Sinha; Yaad Shaher by\n",
      "A priceless collection of paintings by renowned artists,including three close associates of Rabindranath Tagore’sfamily – Nandlal Bose, Asit Kumar Haldar and Sudhir Ranjan Khastgir – are now a part of the Radha Kamal Mukherjee Art gallery and Museum at Tagore Library of the Lucknow University.\n",
      "The gallery, inaugurated by Governor Anandiben Patel during LU's centenary celebrations on Saturday, has 451 rare paintings and sculptures.\n",
      "With tourists avoiding New Delhi because of the harmful air quality and smog, Lucknow, just over an hour’s flight from the capital, is a great alternative, offering a rich mix of architecture, craft and culinary heritage.\n",
      "﻿HISTORY & DETAILS OF PREVIOUS ART FESTIVALS\n",
      "• AAF 1stYear - 2019 (28th Jan to 3rd Feb 2019) Space sponsored by Govt college of Arts & Crafts, Lucknow & supported by U.P. Tourism. 28 Artists participated from Delhi, Maharashtra and U.P. We promoted 17 artists. Total sale of Art work 4.\n",
      "• AAF 2nd Year - 2020 (26th Feb to 3rd March 2020) at Lalit Kala Akademi, Lucknow & supported by Jaipur Art Summit, Bengal Art Foundation, Khanam Arts, Lions Club Dist 321B1, Oudh Gymkhana, Lucknow. 56 Artists Participated from Delhi, Rajasthan, Maharashtra, Jharkhand, Assam, Bengal, Bangalore and U.P. We promoted 32 artists. Total sale of Art work 8 and 6 orders.\n",
      "The craft is complex and difficult to make but the finished product is a sheer beauty to adore. The shining silver designs on the glossy surface appear attractive to the eyes and are a class apart.\n",
      "\n",
      "The art form has received acceptance and adulation from both Lucknowites and visitors. The craft needs more support and stimulus to survive the completion in the market. So when in Lucknow, do not miss out on this exquisite art form, widely seen on hookahs, ughaaldaans, jewelry boxes and other decorative household items.\n",
      "Upon entering the gallery, there is the main hall which is magnificently adorned with life-size portraits of Nawab of Awadh. Taking you back to the 19th century when Lucknow was the realm of Nawabs, the exhibits depict the culture and the lifestyle of this royal clan. Not just this, the gallery also includes pictures of officials and administrators of British era. The exhibits presented at Hussainabad Picture Gallery are painted by artists from India as well as Europe. However, the most enticing feature of their portraits is the high level of detailing; on keen observation, even a tiny detail can be seen such as the royal accessories or shoes. It is believed that the portraits are beautifully painted on elephant skin. Such is magnificence of the craftsmanship that each portrait has an\n",
      "The Picture Gallery, built in 1838 by Nawab Mohammed Ali Shah, exhibits full-length portraits of Awadh’s nawabs and pictures of the administrators and officials of the British era. These life-size portraits were painted by visiting European painters including Dawling, Gravet, and Harrison, as well as an Indian artist named DS Singh. As you go by them, you may notice that their eyes, heads, and accessories, such as shoes, appear to be pointed towards you, leaving you spellbound. As per the legend, these paintings are said to have been done on elephant skin, and the colour used to fill them were created with the help of diamonds and gems, and are painted in such a manner that the different parts seem to move with the angle of view\n",
      "• 1st Online Exhibition - (1st June to 10th June 2020) Exposition Virtuelle -. It was especially organized only to support artist who were suffering during Covid 19 pandemic due to jobs loss.\n",
      "• International Collector's Art Fair - (1st to 10th October 2020)- Objective is to reach the artworks directly to the art buyers and collectors, builders, architects, agents etc.\n",
      "• AAF 3rd Year - 2021 (26th Feb to 4th March 2019) at AIFACS, New Delhi supported by Sitaram Stationers and Sawansukha. Chief Guest Ms. Rubina Karode and Ms. Isabelle Rias, Cultural Attache of Embassy of France. 106 Artists Participated from Delhi, Rajasthan, Hyderabad, Maharashtra, Jharkhand, Assam, Bengal, Bangalore and U.P. 40 artist amongst them were eminent. Total sale of Art work 8 and 6 Orders.\n",
      "Timings: 11 am to 9 pm\n",
      "Location: A1/9B,Sector-B,Near Nehru bal vatika, Aliganj, Lucknow\n",
      "The Saraca Art Gallery is known for hosting group art shows by contemporary artists such as Dheeraj Yadav and Bhupender Asthana, as well as solo art exhibitions curated by art connoisseur Vandana Sehgal. It is located at hotel Lebua, a heritage boutique hotel in a traditional 19th-century bungalow. Please check if an art show is on at the gallery before landing there.\n",
      "Location: 19, Sarva Palli, Saraca Estate, The Mall Avenue, Lucknow\n",
      "Timings: 11 am to 7 pm\n"
     ]
    }
   ],
   "source": [
    "for i in top_indices:\n",
    "    print(embed_data[i])"
   ]
  },
  {
   "cell_type": "code",
   "execution_count": 8,
   "metadata": {},
   "outputs": [],
   "source": [
    "def generate_gemini_response(prompt):\n",
    "    return gemini_model.generate_content(prompt)"
   ]
  },
  {
   "cell_type": "code",
   "execution_count": 17,
   "metadata": {},
   "outputs": [],
   "source": [
    "def cosine_similarity(a, b):\n",
    "    from sklearn.metrics.pairwise import cosine_similarity\n",
    "    return cosine_similarity(a, b)"
   ]
  },
  {
   "cell_type": "code",
   "execution_count": 18,
   "metadata": {},
   "outputs": [],
   "source": [
    "def find_similarity(query_vec, data_vec, top_n =10):\n",
    "    similar = cosine_similarity(query_vec,data_vec)\n",
    "    top_indices = np.argsort(similar[0])[::-1][:top_n]\n",
    "    return top_indices"
   ]
  },
  {
   "cell_type": "code",
   "execution_count": null,
   "metadata": {},
   "outputs": [],
   "source": []
  },
  {
   "cell_type": "code",
   "execution_count": 11,
   "metadata": {},
   "outputs": [],
   "source": [
    "def main(query, embed_data, data_embed):\n",
    "    \n",
    "    embed_query = embed_creator_query(sen_model, query)\n",
    "    for i,query_vec in enumerate(embed_query):\n",
    "        top_indices = find_similarity([query_vec],data_embed)\n",
    "        top_chunks = [embed_data[index] for index in top_indices]\n",
    "\n",
    "        prompt = f\"\"\"As the esteemed ruler of Awadh, you hold the key to unlocking the rich tapestry of our beloved city, Lucknow. With each passing day, the footfalls of visitors grace our streets, seeking enlightenment about our heritage and culture. It is incumbent upon you to possess an encyclopedic knowledge of our city, ready to graciously respond to the queries of our esteemed guests in the refined accent befitting a ruler of Awadh. Your responses should be drawn from the context provided, ensuring a seamless and enriching interaction.\n",
    "\n",
    "**Query:** {query[i]} \n",
    "**Contexts:** {top_chunks[0]}\"\"\"\n",
    "\n",
    "\n",
    "        model_output = generate_gemini_response(prompt)\n",
    "\n",
    "        return model_output\n"
   ]
  },
  {
   "cell_type": "code",
   "execution_count": 12,
   "metadata": {},
   "outputs": [],
   "source": [
    "queries = [\"Give the details about Art and literature in you city\"]"
   ]
  },
  {
   "cell_type": "code",
   "execution_count": 13,
   "metadata": {},
   "outputs": [
    {
     "name": "stdout",
     "output_type": "stream",
     "text": [
      "**Response:**\n",
      "\n",
      "My esteemed guest, Lucknow has long been a vibrant hub of art and literature. Our city boasts a rich tradition of storytelling, poetry, and fine arts.\n",
      "\n",
      "**Literature:**\n",
      "\n",
      "* Lucknow is home to numerous public libraries, including the renowned State Library of Uttar Pradesh, which houses a vast collection of literary works.\n",
      "* The city has produced renowned writers and poets, such as Mirza Ghalib, Munshi Premchand, and Ismat Chughtai.\n",
      "* Lucknow is also known for its unique literary style, known as \"Lucknavi Urdu,\" which is characterized by its elegance and wit.\n",
      "\n",
      "**Art:**\n",
      "\n",
      "* Lucknow has a strong tradition of traditional arts and crafts, including chikankari embroidery, zardozi, and miniature painting.\n",
      "* The city is home to several art galleries and museums, such as the Lucknow Museum and the Janeshwar Mishra Park and Gallery.\n",
      "* Lucknow is also known for its vibrant street art, which often depicts scenes from the city's history and culture.\n"
     ]
    }
   ],
   "source": [
    "\n",
    "res = main(queries,embed_data, data_embed)\n",
    "print(res)"
   ]
  },
  {
   "cell_type": "code",
   "execution_count": 138,
   "metadata": {},
   "outputs": [
    {
     "ename": "ImportError",
     "evalue": "cannot import name 'RootModel' from 'pydantic' (c:\\Users\\aayus\\anaconda3\\lib\\site-packages\\pydantic\\__init__.cp39-win_amd64.pyd)",
     "output_type": "error",
     "traceback": [
      "\u001b[1;31m---------------------------------------------------------------------------\u001b[0m",
      "\u001b[1;31mImportError\u001b[0m                               Traceback (most recent call last)",
      "Cell \u001b[1;32mIn[138], line 1\u001b[0m\n\u001b[1;32m----> 1\u001b[0m \u001b[38;5;28;01mimport\u001b[39;00m \u001b[38;5;21;01mgradio\u001b[39;00m \u001b[38;5;28;01mas\u001b[39;00m \u001b[38;5;21;01mgr\u001b[39;00m \n\u001b[0;32m      2\u001b[0m \u001b[38;5;28;01mdef\u001b[39;00m \u001b[38;5;21mlucknow_rag\u001b[39m(\u001b[38;5;28minput\u001b[39m):\n\u001b[0;32m      3\u001b[0m     \u001b[38;5;28;01mreturn\u001b[39;00m main([\u001b[38;5;28minput\u001b[39m])\n",
      "File \u001b[1;32mc:\\Users\\aayus\\anaconda3\\lib\\site-packages\\gradio\\__init__.py:3\u001b[0m\n\u001b[0;32m      1\u001b[0m \u001b[38;5;28;01mimport\u001b[39;00m \u001b[38;5;21;01mjson\u001b[39;00m\n\u001b[1;32m----> 3\u001b[0m \u001b[38;5;28;01mimport\u001b[39;00m \u001b[38;5;21;01mgradio\u001b[39;00m\u001b[38;5;21;01m.\u001b[39;00m\u001b[38;5;21;01m_simple_templates\u001b[39;00m\n\u001b[0;32m      4\u001b[0m \u001b[38;5;28;01mimport\u001b[39;00m \u001b[38;5;21;01mgradio\u001b[39;00m\u001b[38;5;21;01m.\u001b[39;00m\u001b[38;5;21;01mimage_utils\u001b[39;00m\n\u001b[0;32m      5\u001b[0m \u001b[38;5;28;01mimport\u001b[39;00m \u001b[38;5;21;01mgradio\u001b[39;00m\u001b[38;5;21;01m.\u001b[39;00m\u001b[38;5;21;01mprocessing_utils\u001b[39;00m\n",
      "File \u001b[1;32mc:\\Users\\aayus\\anaconda3\\lib\\site-packages\\gradio\\_simple_templates\\__init__.py:1\u001b[0m\n\u001b[1;32m----> 1\u001b[0m \u001b[38;5;28;01mfrom\u001b[39;00m \u001b[38;5;21;01m.\u001b[39;00m\u001b[38;5;21;01msimpledropdown\u001b[39;00m \u001b[38;5;28;01mimport\u001b[39;00m SimpleDropdown\n\u001b[0;32m      2\u001b[0m \u001b[38;5;28;01mfrom\u001b[39;00m \u001b[38;5;21;01m.\u001b[39;00m\u001b[38;5;21;01msimpleimage\u001b[39;00m \u001b[38;5;28;01mimport\u001b[39;00m SimpleImage\n\u001b[0;32m      3\u001b[0m \u001b[38;5;28;01mfrom\u001b[39;00m \u001b[38;5;21;01m.\u001b[39;00m\u001b[38;5;21;01msimpletextbox\u001b[39;00m \u001b[38;5;28;01mimport\u001b[39;00m SimpleTextbox\n",
      "File \u001b[1;32mc:\\Users\\aayus\\anaconda3\\lib\\site-packages\\gradio\\_simple_templates\\simpledropdown.py:6\u001b[0m\n\u001b[0;32m      3\u001b[0m \u001b[38;5;28;01mimport\u001b[39;00m \u001b[38;5;21;01mwarnings\u001b[39;00m\n\u001b[0;32m      4\u001b[0m \u001b[38;5;28;01mfrom\u001b[39;00m \u001b[38;5;21;01mtyping\u001b[39;00m \u001b[38;5;28;01mimport\u001b[39;00m Any, Callable\n\u001b[1;32m----> 6\u001b[0m \u001b[38;5;28;01mfrom\u001b[39;00m \u001b[38;5;21;01mgradio\u001b[39;00m\u001b[38;5;21;01m.\u001b[39;00m\u001b[38;5;21;01mcomponents\u001b[39;00m\u001b[38;5;21;01m.\u001b[39;00m\u001b[38;5;21;01mbase\u001b[39;00m \u001b[38;5;28;01mimport\u001b[39;00m FormComponent\n\u001b[0;32m      7\u001b[0m \u001b[38;5;28;01mfrom\u001b[39;00m \u001b[38;5;21;01mgradio\u001b[39;00m\u001b[38;5;21;01m.\u001b[39;00m\u001b[38;5;21;01mevents\u001b[39;00m \u001b[38;5;28;01mimport\u001b[39;00m Events\n\u001b[0;32m     10\u001b[0m \u001b[38;5;28;01mclass\u001b[39;00m \u001b[38;5;21;01mSimpleDropdown\u001b[39;00m(FormComponent):\n",
      "File \u001b[1;32mc:\\Users\\aayus\\anaconda3\\lib\\site-packages\\gradio\\components\\__init__.py:1\u001b[0m\n\u001b[1;32m----> 1\u001b[0m \u001b[38;5;28;01mfrom\u001b[39;00m \u001b[38;5;21;01mgradio\u001b[39;00m\u001b[38;5;21;01m.\u001b[39;00m\u001b[38;5;21;01mcomponents\u001b[39;00m\u001b[38;5;21;01m.\u001b[39;00m\u001b[38;5;21;01mannotated_image\u001b[39;00m \u001b[38;5;28;01mimport\u001b[39;00m AnnotatedImage\n\u001b[0;32m      2\u001b[0m \u001b[38;5;28;01mfrom\u001b[39;00m \u001b[38;5;21;01mgradio\u001b[39;00m\u001b[38;5;21;01m.\u001b[39;00m\u001b[38;5;21;01mcomponents\u001b[39;00m\u001b[38;5;21;01m.\u001b[39;00m\u001b[38;5;21;01maudio\u001b[39;00m \u001b[38;5;28;01mimport\u001b[39;00m Audio\n\u001b[0;32m      3\u001b[0m \u001b[38;5;28;01mfrom\u001b[39;00m \u001b[38;5;21;01mgradio\u001b[39;00m\u001b[38;5;21;01m.\u001b[39;00m\u001b[38;5;21;01mcomponents\u001b[39;00m\u001b[38;5;21;01m.\u001b[39;00m\u001b[38;5;21;01mbar_plot\u001b[39;00m \u001b[38;5;28;01mimport\u001b[39;00m BarPlot\n",
      "File \u001b[1;32mc:\\Users\\aayus\\anaconda3\\lib\\site-packages\\gradio\\components\\annotated_image.py:13\u001b[0m\n\u001b[0;32m     10\u001b[0m \u001b[38;5;28;01mfrom\u001b[39;00m \u001b[38;5;21;01mgradio_client\u001b[39;00m \u001b[38;5;28;01mimport\u001b[39;00m file\n\u001b[0;32m     11\u001b[0m \u001b[38;5;28;01mfrom\u001b[39;00m \u001b[38;5;21;01mgradio_client\u001b[39;00m\u001b[38;5;21;01m.\u001b[39;00m\u001b[38;5;21;01mdocumentation\u001b[39;00m \u001b[38;5;28;01mimport\u001b[39;00m document\n\u001b[1;32m---> 13\u001b[0m \u001b[38;5;28;01mfrom\u001b[39;00m \u001b[38;5;21;01mgradio\u001b[39;00m \u001b[38;5;28;01mimport\u001b[39;00m processing_utils, utils\n\u001b[0;32m     14\u001b[0m \u001b[38;5;28;01mfrom\u001b[39;00m \u001b[38;5;21;01mgradio\u001b[39;00m\u001b[38;5;21;01m.\u001b[39;00m\u001b[38;5;21;01mcomponents\u001b[39;00m\u001b[38;5;21;01m.\u001b[39;00m\u001b[38;5;21;01mbase\u001b[39;00m \u001b[38;5;28;01mimport\u001b[39;00m Component\n\u001b[0;32m     15\u001b[0m \u001b[38;5;28;01mfrom\u001b[39;00m \u001b[38;5;21;01mgradio\u001b[39;00m\u001b[38;5;21;01m.\u001b[39;00m\u001b[38;5;21;01mdata_classes\u001b[39;00m \u001b[38;5;28;01mimport\u001b[39;00m FileData, GradioModel\n",
      "File \u001b[1;32mc:\\Users\\aayus\\anaconda3\\lib\\site-packages\\gradio\\processing_utils.py:22\u001b[0m\n\u001b[0;32m     19\u001b[0m \u001b[38;5;28;01mfrom\u001b[39;00m \u001b[38;5;21;01mgradio_client\u001b[39;00m \u001b[38;5;28;01mimport\u001b[39;00m utils \u001b[38;5;28;01mas\u001b[39;00m client_utils\n\u001b[0;32m     20\u001b[0m \u001b[38;5;28;01mfrom\u001b[39;00m \u001b[38;5;21;01mPIL\u001b[39;00m \u001b[38;5;28;01mimport\u001b[39;00m Image, ImageOps, PngImagePlugin\n\u001b[1;32m---> 22\u001b[0m \u001b[38;5;28;01mfrom\u001b[39;00m \u001b[38;5;21;01mgradio\u001b[39;00m \u001b[38;5;28;01mimport\u001b[39;00m utils, wasm_utils\n\u001b[0;32m     23\u001b[0m \u001b[38;5;28;01mfrom\u001b[39;00m \u001b[38;5;21;01mgradio\u001b[39;00m\u001b[38;5;21;01m.\u001b[39;00m\u001b[38;5;21;01mdata_classes\u001b[39;00m \u001b[38;5;28;01mimport\u001b[39;00m FileData, GradioModel, GradioRootModel\n\u001b[0;32m     24\u001b[0m \u001b[38;5;28;01mfrom\u001b[39;00m \u001b[38;5;21;01mgradio\u001b[39;00m\u001b[38;5;21;01m.\u001b[39;00m\u001b[38;5;21;01mutils\u001b[39;00m \u001b[38;5;28;01mimport\u001b[39;00m abspath, get_upload_folder, is_in_or_equal\n",
      "File \u001b[1;32mc:\\Users\\aayus\\anaconda3\\lib\\site-packages\\gradio\\utils.py:53\u001b[0m\n\u001b[0;32m     51\u001b[0m \u001b[38;5;28;01mimport\u001b[39;00m \u001b[38;5;21;01mgradio\u001b[39;00m\n\u001b[0;32m     52\u001b[0m \u001b[38;5;28;01mfrom\u001b[39;00m \u001b[38;5;21;01mgradio\u001b[39;00m\u001b[38;5;21;01m.\u001b[39;00m\u001b[38;5;21;01mcontext\u001b[39;00m \u001b[38;5;28;01mimport\u001b[39;00m Context\n\u001b[1;32m---> 53\u001b[0m \u001b[38;5;28;01mfrom\u001b[39;00m \u001b[38;5;21;01mgradio\u001b[39;00m\u001b[38;5;21;01m.\u001b[39;00m\u001b[38;5;21;01mdata_classes\u001b[39;00m \u001b[38;5;28;01mimport\u001b[39;00m FileData\n\u001b[0;32m     54\u001b[0m \u001b[38;5;28;01mfrom\u001b[39;00m \u001b[38;5;21;01mgradio\u001b[39;00m\u001b[38;5;21;01m.\u001b[39;00m\u001b[38;5;21;01mstrings\u001b[39;00m \u001b[38;5;28;01mimport\u001b[39;00m en\n\u001b[0;32m     56\u001b[0m \u001b[38;5;28;01mif\u001b[39;00m TYPE_CHECKING:  \u001b[38;5;66;03m# Only import for type checking (is False at runtime).\u001b[39;00m\n",
      "File \u001b[1;32mc:\\Users\\aayus\\anaconda3\\lib\\site-packages\\gradio\\data_classes.py:18\u001b[0m\n\u001b[0;32m     15\u001b[0m \u001b[38;5;28;01mfrom\u001b[39;00m \u001b[38;5;21;01m.\u001b[39;00m \u001b[38;5;28;01mimport\u001b[39;00m wasm_utils\n\u001b[0;32m     17\u001b[0m \u001b[38;5;28;01mif\u001b[39;00m \u001b[38;5;129;01mnot\u001b[39;00m wasm_utils\u001b[38;5;241m.\u001b[39mIS_WASM \u001b[38;5;129;01mor\u001b[39;00m TYPE_CHECKING:\n\u001b[1;32m---> 18\u001b[0m     \u001b[38;5;28;01mfrom\u001b[39;00m \u001b[38;5;21;01mpydantic\u001b[39;00m \u001b[38;5;28;01mimport\u001b[39;00m BaseModel, RootModel, ValidationError\n\u001b[0;32m     19\u001b[0m \u001b[38;5;28;01melse\u001b[39;00m:\n\u001b[0;32m     20\u001b[0m     \u001b[38;5;66;03m# XXX: Currently Pyodide V2 is not available on Pyodide,\u001b[39;00m\n\u001b[0;32m     21\u001b[0m     \u001b[38;5;66;03m# so we install V1 for the Wasm version.\u001b[39;00m\n\u001b[0;32m     22\u001b[0m     \u001b[38;5;28;01mfrom\u001b[39;00m \u001b[38;5;21;01mtyping\u001b[39;00m \u001b[38;5;28;01mimport\u001b[39;00m Generic, TypeVar\n",
      "\u001b[1;31mImportError\u001b[0m: cannot import name 'RootModel' from 'pydantic' (c:\\Users\\aayus\\anaconda3\\lib\\site-packages\\pydantic\\__init__.cp39-win_amd64.pyd)"
     ]
    }
   ],
   "source": [
    "import gradio as gr \n",
    "def lucknow_rag(input):\n",
    "    return main([input])\n",
    "\n",
    "app = gr.Interface(fn=lucknow_rag,\n",
    "                   inputs=\"textbox\",\n",
    "                   outputs=\"textbox\",\n",
    "                   description=\"Lucknow RAG is a retrieval-augmented generation (RAG) model, which is a type of natural language processing (NLP) system that combines the strengths of retrieval-based and generation-based approaches. It utilizes a retrieval component to gather relevant information from a large corpus of text, and then employs a language generation model to produce a coherent and contextually appropriate output by conditioning on the retrieved information. The retrieval-augmented generation approach aims to leverage the broad knowledge available in large text corpora while retaining the ability to generate fluent and semantically meaningful text outputs.\")\n",
    "app.launch(debug=True)"
   ]
  },
  {
   "cell_type": "code",
   "execution_count": null,
   "metadata": {},
   "outputs": [],
   "source": []
  }
 ],
 "metadata": {
  "kernelspec": {
   "display_name": "base",
   "language": "python",
   "name": "python3"
  },
  "language_info": {
   "codemirror_mode": {
    "name": "ipython",
    "version": 3
   },
   "file_extension": ".py",
   "mimetype": "text/x-python",
   "name": "python",
   "nbconvert_exporter": "python",
   "pygments_lexer": "ipython3",
   "version": "3.9.18"
  }
 },
 "nbformat": 4,
 "nbformat_minor": 2
}
